{
 "cells": [
  {
   "cell_type": "code",
   "execution_count": 1,
   "id": "d977d1a2",
   "metadata": {},
   "outputs": [],
   "source": [
    "import pandas as pd\n",
    "import numpy as np\n",
    "import seaborn as sns\n",
    "import matplotlib.pyplot as plt\n",
    "from datetime import datetime"
   ]
  },
  {
   "cell_type": "code",
   "execution_count": 2,
   "id": "32f200da",
   "metadata": {},
   "outputs": [],
   "source": [
    "df = pd.read_csv('Virat-Kohli-International-Cricket-Centuries.csv')"
   ]
  },
  {
   "cell_type": "code",
   "execution_count": 3,
   "id": "83515452",
   "metadata": {},
   "outputs": [
    {
     "data": {
      "text/plain": [
       "(80, 9)"
      ]
     },
     "execution_count": 3,
     "metadata": {},
     "output_type": "execute_result"
    }
   ],
   "source": [
    "df.shape"
   ]
  },
  {
   "cell_type": "code",
   "execution_count": 4,
   "id": "20f7670a",
   "metadata": {},
   "outputs": [
    {
     "data": {
      "text/html": [
       "<div>\n",
       "<style scoped>\n",
       "    .dataframe tbody tr th:only-of-type {\n",
       "        vertical-align: middle;\n",
       "    }\n",
       "\n",
       "    .dataframe tbody tr th {\n",
       "        vertical-align: top;\n",
       "    }\n",
       "\n",
       "    .dataframe thead th {\n",
       "        text-align: right;\n",
       "    }\n",
       "</style>\n",
       "<table border=\"1\" class=\"dataframe\">\n",
       "  <thead>\n",
       "    <tr style=\"text-align: right;\">\n",
       "      <th></th>\n",
       "      <th>No.</th>\n",
       "      <th>Runs</th>\n",
       "      <th>Against</th>\n",
       "      <th>Position</th>\n",
       "      <th>Innings</th>\n",
       "      <th>Venue</th>\n",
       "      <th>Ground</th>\n",
       "      <th>Date</th>\n",
       "      <th>Result</th>\n",
       "    </tr>\n",
       "  </thead>\n",
       "  <tbody>\n",
       "    <tr>\n",
       "      <th>0</th>\n",
       "      <td>1</td>\n",
       "      <td>107</td>\n",
       "      <td>Sri Lanka</td>\n",
       "      <td>4</td>\n",
       "      <td>2</td>\n",
       "      <td>Eden Gardens, Kolkata</td>\n",
       "      <td>Home</td>\n",
       "      <td>24-Dec-09</td>\n",
       "      <td>Won</td>\n",
       "    </tr>\n",
       "    <tr>\n",
       "      <th>1</th>\n",
       "      <td>2</td>\n",
       "      <td>102*</td>\n",
       "      <td>Bangladesh</td>\n",
       "      <td>3</td>\n",
       "      <td>2</td>\n",
       "      <td>Sher-e-Bangla Cricket Stadium, Dhaka</td>\n",
       "      <td>Away</td>\n",
       "      <td>11-Jan-10</td>\n",
       "      <td>Won</td>\n",
       "    </tr>\n",
       "    <tr>\n",
       "      <th>2</th>\n",
       "      <td>3</td>\n",
       "      <td>118</td>\n",
       "      <td>Australia</td>\n",
       "      <td>3</td>\n",
       "      <td>2</td>\n",
       "      <td>APCA-VDCA Stadium, Visakhapatnam</td>\n",
       "      <td>Home</td>\n",
       "      <td>20-Oct-10</td>\n",
       "      <td>Won</td>\n",
       "    </tr>\n",
       "    <tr>\n",
       "      <th>3</th>\n",
       "      <td>4</td>\n",
       "      <td>105</td>\n",
       "      <td>New Zealand</td>\n",
       "      <td>3</td>\n",
       "      <td>1</td>\n",
       "      <td>Nehru Stadium, Guwahati</td>\n",
       "      <td>Home</td>\n",
       "      <td>28-Nov-10</td>\n",
       "      <td>Won</td>\n",
       "    </tr>\n",
       "    <tr>\n",
       "      <th>4</th>\n",
       "      <td>5</td>\n",
       "      <td>100*</td>\n",
       "      <td>Bangladesh</td>\n",
       "      <td>4</td>\n",
       "      <td>1</td>\n",
       "      <td>Sher-e-Bangla Cricket Stadium, Dhaka</td>\n",
       "      <td>Away</td>\n",
       "      <td>19-Feb-11</td>\n",
       "      <td>Won</td>\n",
       "    </tr>\n",
       "  </tbody>\n",
       "</table>\n",
       "</div>"
      ],
      "text/plain": [
       "   No.   Runs       Against  Position  Innings  \\\n",
       "0    1    107     Sri Lanka         4        2   \n",
       "1    2  102*     Bangladesh         3        2   \n",
       "2    3    118     Australia         3        2   \n",
       "3    4    105   New Zealand         3        1   \n",
       "4    5   100*    Bangladesh         4        1   \n",
       "\n",
       "                                  Venue Ground       Date Result  \n",
       "0                 Eden Gardens, Kolkata   Home  24-Dec-09    Won  \n",
       "1  Sher-e-Bangla Cricket Stadium, Dhaka   Away  11-Jan-10    Won  \n",
       "2      APCA-VDCA Stadium, Visakhapatnam   Home  20-Oct-10    Won  \n",
       "3               Nehru Stadium, Guwahati   Home  28-Nov-10    Won  \n",
       "4  Sher-e-Bangla Cricket Stadium, Dhaka   Away  19-Feb-11    Won  "
      ]
     },
     "execution_count": 4,
     "metadata": {},
     "output_type": "execute_result"
    }
   ],
   "source": [
    "df.head()"
   ]
  },
  {
   "cell_type": "code",
   "execution_count": 5,
   "id": "20434e05",
   "metadata": {},
   "outputs": [
    {
     "data": {
      "text/plain": [
       "No.          int64\n",
       "Runs        object\n",
       "Against     object\n",
       "Position     int64\n",
       "Innings      int64\n",
       "Venue       object\n",
       "Ground      object\n",
       "Date        object\n",
       "Result      object\n",
       "dtype: object"
      ]
     },
     "execution_count": 5,
     "metadata": {},
     "output_type": "execute_result"
    }
   ],
   "source": [
    "df.dtypes"
   ]
  },
  {
   "cell_type": "code",
   "execution_count": 6,
   "id": "b832fc6e",
   "metadata": {},
   "outputs": [
    {
     "data": {
      "text/plain": [
       "Index(['No.', 'Runs', 'Against', 'Position', 'Innings', 'Venue', 'Ground',\n",
       "       'Date', 'Result'],\n",
       "      dtype='object')"
      ]
     },
     "execution_count": 6,
     "metadata": {},
     "output_type": "execute_result"
    }
   ],
   "source": [
    "df.columns"
   ]
  },
  {
   "cell_type": "code",
   "execution_count": 7,
   "id": "4d00087f",
   "metadata": {
    "scrolled": true
   },
   "outputs": [
    {
     "name": "stdout",
     "output_type": "stream",
     "text": [
      "      No.   Runs  Against  Position  Innings  Venue  Ground   Date  Result\n",
      "0   False  False    False     False    False  False   False  False   False\n",
      "1   False  False    False     False    False  False   False  False   False\n",
      "2   False  False    False     False    False  False   False  False   False\n",
      "3   False  False    False     False    False  False   False  False   False\n",
      "4   False  False    False     False    False  False   False  False   False\n",
      "..    ...    ...      ...       ...      ...    ...     ...    ...     ...\n",
      "75  False  False    False     False    False  False   False  False   False\n",
      "76  False  False    False     False    False  False   False  False   False\n",
      "77  False  False    False     False    False  False   False  False   False\n",
      "78  False  False    False     False    False  False    True  False   False\n",
      "79  False  False    False     False    False  False   False  False   False\n",
      "\n",
      "[80 rows x 9 columns]\n"
     ]
    }
   ],
   "source": [
    "# Check for null values in the DataFrame\n",
    "print(df.isnull())"
   ]
  },
  {
   "cell_type": "code",
   "execution_count": 8,
   "id": "3e2662da",
   "metadata": {},
   "outputs": [
    {
     "name": "stdout",
     "output_type": "stream",
     "text": [
      "No.         0\n",
      "Runs        0\n",
      "Against     0\n",
      "Position    0\n",
      "Innings     0\n",
      "Venue       0\n",
      "Ground      1\n",
      "Date        0\n",
      "Result      0\n",
      "dtype: int64\n"
     ]
    }
   ],
   "source": [
    "# Summarize null values\n",
    "print(df.isnull().sum())"
   ]
  },
  {
   "cell_type": "code",
   "execution_count": 9,
   "id": "2cee0ac2",
   "metadata": {},
   "outputs": [
    {
     "name": "stdout",
     "output_type": "stream",
     "text": [
      "No.         0\n",
      "Runs        0\n",
      "Against     0\n",
      "Position    0\n",
      "Innings     0\n",
      "Venue       0\n",
      "Ground      0\n",
      "Date        0\n",
      "Result      0\n",
      "dtype: int64\n"
     ]
    }
   ],
   "source": [
    "#filling null vlues using forward fill method\n",
    "df=df.fillna(method='ffill')\n",
    "print(df.isnull().sum())"
   ]
  },
  {
   "cell_type": "code",
   "execution_count": 10,
   "id": "8185d1e9",
   "metadata": {},
   "outputs": [
    {
     "data": {
      "text/html": [
       "<div>\n",
       "<style scoped>\n",
       "    .dataframe tbody tr th:only-of-type {\n",
       "        vertical-align: middle;\n",
       "    }\n",
       "\n",
       "    .dataframe tbody tr th {\n",
       "        vertical-align: top;\n",
       "    }\n",
       "\n",
       "    .dataframe thead th {\n",
       "        text-align: right;\n",
       "    }\n",
       "</style>\n",
       "<table border=\"1\" class=\"dataframe\">\n",
       "  <thead>\n",
       "    <tr style=\"text-align: right;\">\n",
       "      <th></th>\n",
       "      <th>No.</th>\n",
       "      <th>Runs</th>\n",
       "      <th>Against</th>\n",
       "      <th>Position</th>\n",
       "      <th>Innings</th>\n",
       "      <th>Venue</th>\n",
       "      <th>Ground</th>\n",
       "      <th>Date</th>\n",
       "      <th>Result</th>\n",
       "    </tr>\n",
       "  </thead>\n",
       "  <tbody>\n",
       "    <tr>\n",
       "      <th>0</th>\n",
       "      <td>1</td>\n",
       "      <td>107</td>\n",
       "      <td>Sri Lanka</td>\n",
       "      <td>4</td>\n",
       "      <td>2</td>\n",
       "      <td>Eden Gardens, Kolkata</td>\n",
       "      <td>Home</td>\n",
       "      <td>24-Dec-09</td>\n",
       "      <td>Won</td>\n",
       "    </tr>\n",
       "    <tr>\n",
       "      <th>1</th>\n",
       "      <td>2</td>\n",
       "      <td>102*</td>\n",
       "      <td>Bangladesh</td>\n",
       "      <td>3</td>\n",
       "      <td>2</td>\n",
       "      <td>Sher-e-Bangla Cricket Stadium, Dhaka</td>\n",
       "      <td>Away</td>\n",
       "      <td>11-Jan-10</td>\n",
       "      <td>Won</td>\n",
       "    </tr>\n",
       "    <tr>\n",
       "      <th>2</th>\n",
       "      <td>3</td>\n",
       "      <td>118</td>\n",
       "      <td>Australia</td>\n",
       "      <td>3</td>\n",
       "      <td>2</td>\n",
       "      <td>APCA-VDCA Stadium, Visakhapatnam</td>\n",
       "      <td>Home</td>\n",
       "      <td>20-Oct-10</td>\n",
       "      <td>Won</td>\n",
       "    </tr>\n",
       "    <tr>\n",
       "      <th>3</th>\n",
       "      <td>4</td>\n",
       "      <td>105</td>\n",
       "      <td>New Zealand</td>\n",
       "      <td>3</td>\n",
       "      <td>1</td>\n",
       "      <td>Nehru Stadium, Guwahati</td>\n",
       "      <td>Home</td>\n",
       "      <td>28-Nov-10</td>\n",
       "      <td>Won</td>\n",
       "    </tr>\n",
       "    <tr>\n",
       "      <th>4</th>\n",
       "      <td>5</td>\n",
       "      <td>100*</td>\n",
       "      <td>Bangladesh</td>\n",
       "      <td>4</td>\n",
       "      <td>1</td>\n",
       "      <td>Sher-e-Bangla Cricket Stadium, Dhaka</td>\n",
       "      <td>Away</td>\n",
       "      <td>19-Feb-11</td>\n",
       "      <td>Won</td>\n",
       "    </tr>\n",
       "    <tr>\n",
       "      <th>...</th>\n",
       "      <td>...</td>\n",
       "      <td>...</td>\n",
       "      <td>...</td>\n",
       "      <td>...</td>\n",
       "      <td>...</td>\n",
       "      <td>...</td>\n",
       "      <td>...</td>\n",
       "      <td>...</td>\n",
       "      <td>...</td>\n",
       "    </tr>\n",
       "    <tr>\n",
       "      <th>75</th>\n",
       "      <td>76</td>\n",
       "      <td>121</td>\n",
       "      <td>West Indies</td>\n",
       "      <td>4</td>\n",
       "      <td>1</td>\n",
       "      <td>Queen's Park Oval, Port of Spain</td>\n",
       "      <td>Away</td>\n",
       "      <td>20-Jul-23</td>\n",
       "      <td>Drawn</td>\n",
       "    </tr>\n",
       "    <tr>\n",
       "      <th>76</th>\n",
       "      <td>77</td>\n",
       "      <td>122*</td>\n",
       "      <td>Pakistan</td>\n",
       "      <td>3</td>\n",
       "      <td>1</td>\n",
       "      <td>R. Premadasa Stadium, Colombo</td>\n",
       "      <td>Neutral</td>\n",
       "      <td>11-Sep-23</td>\n",
       "      <td>Won</td>\n",
       "    </tr>\n",
       "    <tr>\n",
       "      <th>77</th>\n",
       "      <td>78</td>\n",
       "      <td>103*</td>\n",
       "      <td>Bangladesh</td>\n",
       "      <td>3</td>\n",
       "      <td>2</td>\n",
       "      <td>Maharashtra Cricket Association Stadium, Pune</td>\n",
       "      <td>Home</td>\n",
       "      <td>19-Oct-23</td>\n",
       "      <td>Won</td>\n",
       "    </tr>\n",
       "    <tr>\n",
       "      <th>78</th>\n",
       "      <td>79</td>\n",
       "      <td>101*</td>\n",
       "      <td>South Africa</td>\n",
       "      <td>3</td>\n",
       "      <td>1</td>\n",
       "      <td>Eden Gardens, Kolkata</td>\n",
       "      <td>Home</td>\n",
       "      <td>05-Nov</td>\n",
       "      <td>Won</td>\n",
       "    </tr>\n",
       "    <tr>\n",
       "      <th>79</th>\n",
       "      <td>80</td>\n",
       "      <td>117</td>\n",
       "      <td>New Zealand</td>\n",
       "      <td>3</td>\n",
       "      <td>1</td>\n",
       "      <td>Wankhede Stadium, Mumbai</td>\n",
       "      <td>Home</td>\n",
       "      <td>15-Nov-23</td>\n",
       "      <td>Won</td>\n",
       "    </tr>\n",
       "  </tbody>\n",
       "</table>\n",
       "<p>80 rows × 9 columns</p>\n",
       "</div>"
      ],
      "text/plain": [
       "    No.   Runs       Against  Position  Innings  \\\n",
       "0     1    107     Sri Lanka         4        2   \n",
       "1     2  102*     Bangladesh         3        2   \n",
       "2     3    118     Australia         3        2   \n",
       "3     4    105   New Zealand         3        1   \n",
       "4     5   100*    Bangladesh         4        1   \n",
       "..  ...    ...           ...       ...      ...   \n",
       "75   76    121   West Indies         4        1   \n",
       "76   77   122*      Pakistan         3        1   \n",
       "77   78   103*    Bangladesh         3        2   \n",
       "78   79   101*  South Africa         3        1   \n",
       "79   80    117   New Zealand         3        1   \n",
       "\n",
       "                                            Venue   Ground       Date Result  \n",
       "0                           Eden Gardens, Kolkata     Home  24-Dec-09    Won  \n",
       "1            Sher-e-Bangla Cricket Stadium, Dhaka     Away  11-Jan-10    Won  \n",
       "2                APCA-VDCA Stadium, Visakhapatnam     Home  20-Oct-10    Won  \n",
       "3                         Nehru Stadium, Guwahati     Home  28-Nov-10    Won  \n",
       "4            Sher-e-Bangla Cricket Stadium, Dhaka     Away  19-Feb-11    Won  \n",
       "..                                            ...      ...        ...    ...  \n",
       "75               Queen's Park Oval, Port of Spain     Away  20-Jul-23  Drawn  \n",
       "76                  R. Premadasa Stadium, Colombo  Neutral  11-Sep-23    Won  \n",
       "77  Maharashtra Cricket Association Stadium, Pune     Home  19-Oct-23    Won  \n",
       "78                          Eden Gardens, Kolkata     Home     05-Nov    Won  \n",
       "79                       Wankhede Stadium, Mumbai     Home  15-Nov-23    Won  \n",
       "\n",
       "[80 rows x 9 columns]"
      ]
     },
     "execution_count": 10,
     "metadata": {},
     "output_type": "execute_result"
    }
   ],
   "source": [
    "df"
   ]
  },
  {
   "cell_type": "code",
   "execution_count": 11,
   "id": "662e828b",
   "metadata": {},
   "outputs": [],
   "source": [
    "df['date'] = pd.to_datetime(df['Date'],errors= 'coerce')"
   ]
  },
  {
   "cell_type": "code",
   "execution_count": 12,
   "id": "b38ac181",
   "metadata": {},
   "outputs": [
    {
     "name": "stdout",
     "output_type": "stream",
     "text": [
      "    No.   Runs       Against  Position  Innings  \\\n",
      "0     1    107     Sri Lanka         4        2   \n",
      "1     2  102*     Bangladesh         3        2   \n",
      "2     3    118     Australia         3        2   \n",
      "3     4    105   New Zealand         3        1   \n",
      "4     5   100*    Bangladesh         4        1   \n",
      "..  ...    ...           ...       ...      ...   \n",
      "75   76    121   West Indies         4        1   \n",
      "76   77   122*      Pakistan         3        1   \n",
      "77   78   103*    Bangladesh         3        2   \n",
      "78   79   101*  South Africa         3        1   \n",
      "79   80    117   New Zealand         3        1   \n",
      "\n",
      "                                            Venue   Ground       Date Result  \\\n",
      "0                           Eden Gardens, Kolkata     Home  24-Dec-09    Won   \n",
      "1            Sher-e-Bangla Cricket Stadium, Dhaka     Away  11-Jan-10    Won   \n",
      "2                APCA-VDCA Stadium, Visakhapatnam     Home  20-Oct-10    Won   \n",
      "3                         Nehru Stadium, Guwahati     Home  28-Nov-10    Won   \n",
      "4            Sher-e-Bangla Cricket Stadium, Dhaka     Away  19-Feb-11    Won   \n",
      "..                                            ...      ...        ...    ...   \n",
      "75               Queen's Park Oval, Port of Spain     Away  20-Jul-23  Drawn   \n",
      "76                  R. Premadasa Stadium, Colombo  Neutral  11-Sep-23    Won   \n",
      "77  Maharashtra Cricket Association Stadium, Pune     Home  19-Oct-23    Won   \n",
      "78                          Eden Gardens, Kolkata     Home     05-Nov    Won   \n",
      "79                       Wankhede Stadium, Mumbai     Home  15-Nov-23    Won   \n",
      "\n",
      "         date    year  month   day  \n",
      "0  2009-12-24  2009.0   12.0  24.0  \n",
      "1  2010-01-11  2010.0    1.0  11.0  \n",
      "2  2010-10-20  2010.0   10.0  20.0  \n",
      "3  2010-11-28  2010.0   11.0  28.0  \n",
      "4  2011-02-19  2011.0    2.0  19.0  \n",
      "..        ...     ...    ...   ...  \n",
      "75 2023-07-20  2023.0    7.0  20.0  \n",
      "76 2023-09-11  2023.0    9.0  11.0  \n",
      "77 2023-10-19  2023.0   10.0  19.0  \n",
      "78        NaT     NaN    NaN   NaN  \n",
      "79 2023-11-15  2023.0   11.0  15.0  \n",
      "\n",
      "[80 rows x 13 columns]\n"
     ]
    }
   ],
   "source": [
    "df['year'] = df['date'].dt.year\n",
    "df['month'] = df['date'].dt.month\n",
    "df['day'] = df['date'].dt.day\n",
    "\n",
    "print(df)\n"
   ]
  },
  {
   "cell_type": "code",
   "execution_count": 13,
   "id": "7be69726",
   "metadata": {},
   "outputs": [
    {
     "data": {
      "text/html": [
       "<div>\n",
       "<style scoped>\n",
       "    .dataframe tbody tr th:only-of-type {\n",
       "        vertical-align: middle;\n",
       "    }\n",
       "\n",
       "    .dataframe tbody tr th {\n",
       "        vertical-align: top;\n",
       "    }\n",
       "\n",
       "    .dataframe thead th {\n",
       "        text-align: right;\n",
       "    }\n",
       "</style>\n",
       "<table border=\"1\" class=\"dataframe\">\n",
       "  <thead>\n",
       "    <tr style=\"text-align: right;\">\n",
       "      <th></th>\n",
       "      <th>No.</th>\n",
       "      <th>Runs</th>\n",
       "      <th>Against</th>\n",
       "      <th>Position</th>\n",
       "      <th>Innings</th>\n",
       "      <th>Venue</th>\n",
       "      <th>Ground</th>\n",
       "      <th>Result</th>\n",
       "      <th>date</th>\n",
       "      <th>year</th>\n",
       "      <th>month</th>\n",
       "      <th>day</th>\n",
       "    </tr>\n",
       "  </thead>\n",
       "  <tbody>\n",
       "    <tr>\n",
       "      <th>0</th>\n",
       "      <td>1</td>\n",
       "      <td>107</td>\n",
       "      <td>Sri Lanka</td>\n",
       "      <td>4</td>\n",
       "      <td>2</td>\n",
       "      <td>Eden Gardens, Kolkata</td>\n",
       "      <td>Home</td>\n",
       "      <td>Won</td>\n",
       "      <td>2009-12-24</td>\n",
       "      <td>2009.0</td>\n",
       "      <td>12.0</td>\n",
       "      <td>24.0</td>\n",
       "    </tr>\n",
       "    <tr>\n",
       "      <th>1</th>\n",
       "      <td>2</td>\n",
       "      <td>102*</td>\n",
       "      <td>Bangladesh</td>\n",
       "      <td>3</td>\n",
       "      <td>2</td>\n",
       "      <td>Sher-e-Bangla Cricket Stadium, Dhaka</td>\n",
       "      <td>Away</td>\n",
       "      <td>Won</td>\n",
       "      <td>2010-01-11</td>\n",
       "      <td>2010.0</td>\n",
       "      <td>1.0</td>\n",
       "      <td>11.0</td>\n",
       "    </tr>\n",
       "    <tr>\n",
       "      <th>2</th>\n",
       "      <td>3</td>\n",
       "      <td>118</td>\n",
       "      <td>Australia</td>\n",
       "      <td>3</td>\n",
       "      <td>2</td>\n",
       "      <td>APCA-VDCA Stadium, Visakhapatnam</td>\n",
       "      <td>Home</td>\n",
       "      <td>Won</td>\n",
       "      <td>2010-10-20</td>\n",
       "      <td>2010.0</td>\n",
       "      <td>10.0</td>\n",
       "      <td>20.0</td>\n",
       "    </tr>\n",
       "    <tr>\n",
       "      <th>3</th>\n",
       "      <td>4</td>\n",
       "      <td>105</td>\n",
       "      <td>New Zealand</td>\n",
       "      <td>3</td>\n",
       "      <td>1</td>\n",
       "      <td>Nehru Stadium, Guwahati</td>\n",
       "      <td>Home</td>\n",
       "      <td>Won</td>\n",
       "      <td>2010-11-28</td>\n",
       "      <td>2010.0</td>\n",
       "      <td>11.0</td>\n",
       "      <td>28.0</td>\n",
       "    </tr>\n",
       "    <tr>\n",
       "      <th>4</th>\n",
       "      <td>5</td>\n",
       "      <td>100*</td>\n",
       "      <td>Bangladesh</td>\n",
       "      <td>4</td>\n",
       "      <td>1</td>\n",
       "      <td>Sher-e-Bangla Cricket Stadium, Dhaka</td>\n",
       "      <td>Away</td>\n",
       "      <td>Won</td>\n",
       "      <td>2011-02-19</td>\n",
       "      <td>2011.0</td>\n",
       "      <td>2.0</td>\n",
       "      <td>19.0</td>\n",
       "    </tr>\n",
       "    <tr>\n",
       "      <th>...</th>\n",
       "      <td>...</td>\n",
       "      <td>...</td>\n",
       "      <td>...</td>\n",
       "      <td>...</td>\n",
       "      <td>...</td>\n",
       "      <td>...</td>\n",
       "      <td>...</td>\n",
       "      <td>...</td>\n",
       "      <td>...</td>\n",
       "      <td>...</td>\n",
       "      <td>...</td>\n",
       "      <td>...</td>\n",
       "    </tr>\n",
       "    <tr>\n",
       "      <th>75</th>\n",
       "      <td>76</td>\n",
       "      <td>121</td>\n",
       "      <td>West Indies</td>\n",
       "      <td>4</td>\n",
       "      <td>1</td>\n",
       "      <td>Queen's Park Oval, Port of Spain</td>\n",
       "      <td>Away</td>\n",
       "      <td>Drawn</td>\n",
       "      <td>2023-07-20</td>\n",
       "      <td>2023.0</td>\n",
       "      <td>7.0</td>\n",
       "      <td>20.0</td>\n",
       "    </tr>\n",
       "    <tr>\n",
       "      <th>76</th>\n",
       "      <td>77</td>\n",
       "      <td>122*</td>\n",
       "      <td>Pakistan</td>\n",
       "      <td>3</td>\n",
       "      <td>1</td>\n",
       "      <td>R. Premadasa Stadium, Colombo</td>\n",
       "      <td>Neutral</td>\n",
       "      <td>Won</td>\n",
       "      <td>2023-09-11</td>\n",
       "      <td>2023.0</td>\n",
       "      <td>9.0</td>\n",
       "      <td>11.0</td>\n",
       "    </tr>\n",
       "    <tr>\n",
       "      <th>77</th>\n",
       "      <td>78</td>\n",
       "      <td>103*</td>\n",
       "      <td>Bangladesh</td>\n",
       "      <td>3</td>\n",
       "      <td>2</td>\n",
       "      <td>Maharashtra Cricket Association Stadium, Pune</td>\n",
       "      <td>Home</td>\n",
       "      <td>Won</td>\n",
       "      <td>2023-10-19</td>\n",
       "      <td>2023.0</td>\n",
       "      <td>10.0</td>\n",
       "      <td>19.0</td>\n",
       "    </tr>\n",
       "    <tr>\n",
       "      <th>78</th>\n",
       "      <td>79</td>\n",
       "      <td>101*</td>\n",
       "      <td>South Africa</td>\n",
       "      <td>3</td>\n",
       "      <td>1</td>\n",
       "      <td>Eden Gardens, Kolkata</td>\n",
       "      <td>Home</td>\n",
       "      <td>Won</td>\n",
       "      <td>NaT</td>\n",
       "      <td>NaN</td>\n",
       "      <td>NaN</td>\n",
       "      <td>NaN</td>\n",
       "    </tr>\n",
       "    <tr>\n",
       "      <th>79</th>\n",
       "      <td>80</td>\n",
       "      <td>117</td>\n",
       "      <td>New Zealand</td>\n",
       "      <td>3</td>\n",
       "      <td>1</td>\n",
       "      <td>Wankhede Stadium, Mumbai</td>\n",
       "      <td>Home</td>\n",
       "      <td>Won</td>\n",
       "      <td>2023-11-15</td>\n",
       "      <td>2023.0</td>\n",
       "      <td>11.0</td>\n",
       "      <td>15.0</td>\n",
       "    </tr>\n",
       "  </tbody>\n",
       "</table>\n",
       "<p>80 rows × 12 columns</p>\n",
       "</div>"
      ],
      "text/plain": [
       "    No.   Runs       Against  Position  Innings  \\\n",
       "0     1    107     Sri Lanka         4        2   \n",
       "1     2  102*     Bangladesh         3        2   \n",
       "2     3    118     Australia         3        2   \n",
       "3     4    105   New Zealand         3        1   \n",
       "4     5   100*    Bangladesh         4        1   \n",
       "..  ...    ...           ...       ...      ...   \n",
       "75   76    121   West Indies         4        1   \n",
       "76   77   122*      Pakistan         3        1   \n",
       "77   78   103*    Bangladesh         3        2   \n",
       "78   79   101*  South Africa         3        1   \n",
       "79   80    117   New Zealand         3        1   \n",
       "\n",
       "                                            Venue   Ground Result       date  \\\n",
       "0                           Eden Gardens, Kolkata     Home    Won 2009-12-24   \n",
       "1            Sher-e-Bangla Cricket Stadium, Dhaka     Away    Won 2010-01-11   \n",
       "2                APCA-VDCA Stadium, Visakhapatnam     Home    Won 2010-10-20   \n",
       "3                         Nehru Stadium, Guwahati     Home    Won 2010-11-28   \n",
       "4            Sher-e-Bangla Cricket Stadium, Dhaka     Away    Won 2011-02-19   \n",
       "..                                            ...      ...    ...        ...   \n",
       "75               Queen's Park Oval, Port of Spain     Away  Drawn 2023-07-20   \n",
       "76                  R. Premadasa Stadium, Colombo  Neutral    Won 2023-09-11   \n",
       "77  Maharashtra Cricket Association Stadium, Pune     Home    Won 2023-10-19   \n",
       "78                          Eden Gardens, Kolkata     Home    Won        NaT   \n",
       "79                       Wankhede Stadium, Mumbai     Home    Won 2023-11-15   \n",
       "\n",
       "      year  month   day  \n",
       "0   2009.0   12.0  24.0  \n",
       "1   2010.0    1.0  11.0  \n",
       "2   2010.0   10.0  20.0  \n",
       "3   2010.0   11.0  28.0  \n",
       "4   2011.0    2.0  19.0  \n",
       "..     ...    ...   ...  \n",
       "75  2023.0    7.0  20.0  \n",
       "76  2023.0    9.0  11.0  \n",
       "77  2023.0   10.0  19.0  \n",
       "78     NaN    NaN   NaN  \n",
       "79  2023.0   11.0  15.0  \n",
       "\n",
       "[80 rows x 12 columns]"
      ]
     },
     "execution_count": 13,
     "metadata": {},
     "output_type": "execute_result"
    }
   ],
   "source": [
    "df.drop('Date', axis=1)"
   ]
  },
  {
   "cell_type": "code",
   "execution_count": 14,
   "id": "57cf94e5",
   "metadata": {},
   "outputs": [
    {
     "data": {
      "text/plain": [
       "array([' Sri Lanka', ' Bangladesh', ' Australia', ' New Zealand',\n",
       "       ' England', ' West Indies', ' Pakistan', ' Zimbabwe',\n",
       "       ' South Africa', ' Afghanistan', 'West Indies', 'Pakistan',\n",
       "       'Bangladesh', 'South Africa', 'New Zealand'], dtype=object)"
      ]
     },
     "execution_count": 14,
     "metadata": {},
     "output_type": "execute_result"
    }
   ],
   "source": [
    "df['Against'].unique()"
   ]
  },
  {
   "cell_type": "code",
   "execution_count": 15,
   "id": "4464a30a",
   "metadata": {},
   "outputs": [
    {
     "data": {
      "text/plain": [
       "array([4, 3, 6, 5, 2], dtype=int64)"
      ]
     },
     "execution_count": 15,
     "metadata": {},
     "output_type": "execute_result"
    }
   ],
   "source": [
    "df['Position'].unique()"
   ]
  },
  {
   "cell_type": "code",
   "execution_count": 16,
   "id": "c3553ba1",
   "metadata": {},
   "outputs": [
    {
     "data": {
      "text/plain": [
       "array(['Eden Gardens, Kolkata', 'Sher-e-Bangla Cricket Stadium, Dhaka',\n",
       "       'APCA-VDCA Stadium, Visakhapatnam', 'Nehru Stadium, Guwahati',\n",
       "       'Sophia Gardens, Cardiff', 'Feroz Shah Kotla Ground, Delhi',\n",
       "       'Adelaide Oval, Adelaide', 'Bellerive Oval, Hobart',\n",
       "       'MRIC Stadium, Hambantota', 'R. Premadasa Stadium, Colombo',\n",
       "       'M. Chinnaswamy Stadium, Bangalore',\n",
       "       'Vidarbha Cricket Association Stadium, Nagpur',\n",
       "       'M. A. Chidambaram Stadium, Chennai',\n",
       "       \"Queen's Park Oval, Port of Spain\", 'Harare Sports Club, Harare',\n",
       "       'Sawai Mansingh Stadium, Jaipur', 'VCA Stadium, Nagpur',\n",
       "       'Wanderers Stadium, Johannesburg', 'McLean Park, Napier',\n",
       "       'Basin Reserve, Wellington',\n",
       "       'Khan Shaheb Osman Ali Stadium, Fatullah',\n",
       "       'HPCA Stadium, Dharamshala', 'JSCA International Stadium, Ranchi',\n",
       "       'Melbourne Cricket Ground, Melbourne',\n",
       "       'Sydney Cricket Ground, Sydney',\n",
       "       'Galle International Stadium, Galle', 'Manuka Oval, Canberra',\n",
       "       'Sir Vivian Richards Stadium, North Sound',\n",
       "       'Holkar Stadium, Indore',\n",
       "       'Punjab Cricket Association IS Bindra Stadium, Mohali',\n",
       "       'ACA-VDCA Cricket Stadium, Visakhapatnam',\n",
       "       'Wankhede Stadium, Mumbai',\n",
       "       'Maharashtra Cricket Association Stadium, Pune',\n",
       "       'Rajiv Gandhi International Cricket Stadium, Hyderabad',\n",
       "       'Sabina Park, Kingston', 'Green Park Stadium, Kanpur',\n",
       "       'SuperSport Park, Centurion', 'Kingsmead Cricket Ground, Durban',\n",
       "       'Newlands Cricket Ground, Cape Town',\n",
       "       'Edgbaston Cricket Ground, Birmingham', 'Trent Bridge, Nottingham',\n",
       "       'Saurashtra Cricket Association Stadium, Rajkot',\n",
       "       'ACA Stadium, Guwahati', 'Perth Stadium, Perth',\n",
       "       'Dubai International Cricket Stadium, Dubai',\n",
       "       'Zohur Ahmed Chowdhury Stadium, Chittagong',\n",
       "       'Greenfield International Stadium, Thiruvananthapuram',\n",
       "       'Narendra Modi Stadium, Ahmedabad',\n",
       "       'Maharashtra Cricket Association Stadium,\\xa0Pune'], dtype=object)"
      ]
     },
     "execution_count": 16,
     "metadata": {},
     "output_type": "execute_result"
    }
   ],
   "source": [
    "df['Venue'].unique()"
   ]
  },
  {
   "cell_type": "code",
   "execution_count": 17,
   "id": "80e1c50b",
   "metadata": {},
   "outputs": [
    {
     "data": {
      "text/plain": [
       "array(['Won', 'Lost (D/L)', 'Lost', 'Drawn', 'Won (D/L)', 'Tied'],\n",
       "      dtype=object)"
      ]
     },
     "execution_count": 17,
     "metadata": {},
     "output_type": "execute_result"
    }
   ],
   "source": [
    "df['Result'].unique()"
   ]
  },
  {
   "cell_type": "markdown",
   "id": "df12d536",
   "metadata": {},
   "source": [
    "### Adding New Column Out/Notout from Runs column"
   ]
  },
  {
   "cell_type": "code",
   "execution_count": 18,
   "id": "1a8e6429",
   "metadata": {},
   "outputs": [
    {
     "data": {
      "text/plain": [
       "0      107\n",
       "1    102* \n",
       "2      118\n",
       "3      105\n",
       "4     100*\n",
       "Name: Runs, dtype: object"
      ]
     },
     "execution_count": 18,
     "metadata": {},
     "output_type": "execute_result"
    }
   ],
   "source": [
    "df['Runs'].head()"
   ]
  },
  {
   "cell_type": "code",
   "execution_count": 19,
   "id": "7210b8b8",
   "metadata": {},
   "outputs": [],
   "source": [
    "# Function to determine 'Out' or 'Notout'\n",
    "def out_or_notout(score):\n",
    "    if '*' in score:\n",
    "        return 'Notout'\n",
    "    else:\n",
    "        return 'Out'\n"
   ]
  },
  {
   "cell_type": "code",
   "execution_count": 20,
   "id": "1060fb62",
   "metadata": {},
   "outputs": [],
   "source": [
    "# Apply the function to create the new column\n",
    "df['Out/Notout'] = df['Runs'].apply(out_or_notout)"
   ]
  },
  {
   "cell_type": "code",
   "execution_count": 21,
   "id": "6dd0efa8",
   "metadata": {},
   "outputs": [],
   "source": [
    "df['Runs'] = pd.to_numeric(df['Runs'].str.replace('*', '',regex=False))"
   ]
  },
  {
   "cell_type": "code",
   "execution_count": 22,
   "id": "5b94d9c8",
   "metadata": {},
   "outputs": [
    {
     "data": {
      "text/html": [
       "<div>\n",
       "<style scoped>\n",
       "    .dataframe tbody tr th:only-of-type {\n",
       "        vertical-align: middle;\n",
       "    }\n",
       "\n",
       "    .dataframe tbody tr th {\n",
       "        vertical-align: top;\n",
       "    }\n",
       "\n",
       "    .dataframe thead th {\n",
       "        text-align: right;\n",
       "    }\n",
       "</style>\n",
       "<table border=\"1\" class=\"dataframe\">\n",
       "  <thead>\n",
       "    <tr style=\"text-align: right;\">\n",
       "      <th></th>\n",
       "      <th>No.</th>\n",
       "      <th>Runs</th>\n",
       "      <th>Against</th>\n",
       "      <th>Position</th>\n",
       "      <th>Innings</th>\n",
       "      <th>Venue</th>\n",
       "      <th>Ground</th>\n",
       "      <th>Date</th>\n",
       "      <th>Result</th>\n",
       "      <th>date</th>\n",
       "      <th>year</th>\n",
       "      <th>month</th>\n",
       "      <th>day</th>\n",
       "      <th>Out/Notout</th>\n",
       "    </tr>\n",
       "  </thead>\n",
       "  <tbody>\n",
       "    <tr>\n",
       "      <th>0</th>\n",
       "      <td>1</td>\n",
       "      <td>107</td>\n",
       "      <td>Sri Lanka</td>\n",
       "      <td>4</td>\n",
       "      <td>2</td>\n",
       "      <td>Eden Gardens, Kolkata</td>\n",
       "      <td>Home</td>\n",
       "      <td>24-Dec-09</td>\n",
       "      <td>Won</td>\n",
       "      <td>2009-12-24</td>\n",
       "      <td>2009.0</td>\n",
       "      <td>12.0</td>\n",
       "      <td>24.0</td>\n",
       "      <td>Out</td>\n",
       "    </tr>\n",
       "    <tr>\n",
       "      <th>1</th>\n",
       "      <td>2</td>\n",
       "      <td>102</td>\n",
       "      <td>Bangladesh</td>\n",
       "      <td>3</td>\n",
       "      <td>2</td>\n",
       "      <td>Sher-e-Bangla Cricket Stadium, Dhaka</td>\n",
       "      <td>Away</td>\n",
       "      <td>11-Jan-10</td>\n",
       "      <td>Won</td>\n",
       "      <td>2010-01-11</td>\n",
       "      <td>2010.0</td>\n",
       "      <td>1.0</td>\n",
       "      <td>11.0</td>\n",
       "      <td>Notout</td>\n",
       "    </tr>\n",
       "    <tr>\n",
       "      <th>2</th>\n",
       "      <td>3</td>\n",
       "      <td>118</td>\n",
       "      <td>Australia</td>\n",
       "      <td>3</td>\n",
       "      <td>2</td>\n",
       "      <td>APCA-VDCA Stadium, Visakhapatnam</td>\n",
       "      <td>Home</td>\n",
       "      <td>20-Oct-10</td>\n",
       "      <td>Won</td>\n",
       "      <td>2010-10-20</td>\n",
       "      <td>2010.0</td>\n",
       "      <td>10.0</td>\n",
       "      <td>20.0</td>\n",
       "      <td>Out</td>\n",
       "    </tr>\n",
       "    <tr>\n",
       "      <th>3</th>\n",
       "      <td>4</td>\n",
       "      <td>105</td>\n",
       "      <td>New Zealand</td>\n",
       "      <td>3</td>\n",
       "      <td>1</td>\n",
       "      <td>Nehru Stadium, Guwahati</td>\n",
       "      <td>Home</td>\n",
       "      <td>28-Nov-10</td>\n",
       "      <td>Won</td>\n",
       "      <td>2010-11-28</td>\n",
       "      <td>2010.0</td>\n",
       "      <td>11.0</td>\n",
       "      <td>28.0</td>\n",
       "      <td>Out</td>\n",
       "    </tr>\n",
       "    <tr>\n",
       "      <th>4</th>\n",
       "      <td>5</td>\n",
       "      <td>100</td>\n",
       "      <td>Bangladesh</td>\n",
       "      <td>4</td>\n",
       "      <td>1</td>\n",
       "      <td>Sher-e-Bangla Cricket Stadium, Dhaka</td>\n",
       "      <td>Away</td>\n",
       "      <td>19-Feb-11</td>\n",
       "      <td>Won</td>\n",
       "      <td>2011-02-19</td>\n",
       "      <td>2011.0</td>\n",
       "      <td>2.0</td>\n",
       "      <td>19.0</td>\n",
       "      <td>Notout</td>\n",
       "    </tr>\n",
       "    <tr>\n",
       "      <th>...</th>\n",
       "      <td>...</td>\n",
       "      <td>...</td>\n",
       "      <td>...</td>\n",
       "      <td>...</td>\n",
       "      <td>...</td>\n",
       "      <td>...</td>\n",
       "      <td>...</td>\n",
       "      <td>...</td>\n",
       "      <td>...</td>\n",
       "      <td>...</td>\n",
       "      <td>...</td>\n",
       "      <td>...</td>\n",
       "      <td>...</td>\n",
       "      <td>...</td>\n",
       "    </tr>\n",
       "    <tr>\n",
       "      <th>75</th>\n",
       "      <td>76</td>\n",
       "      <td>121</td>\n",
       "      <td>West Indies</td>\n",
       "      <td>4</td>\n",
       "      <td>1</td>\n",
       "      <td>Queen's Park Oval, Port of Spain</td>\n",
       "      <td>Away</td>\n",
       "      <td>20-Jul-23</td>\n",
       "      <td>Drawn</td>\n",
       "      <td>2023-07-20</td>\n",
       "      <td>2023.0</td>\n",
       "      <td>7.0</td>\n",
       "      <td>20.0</td>\n",
       "      <td>Out</td>\n",
       "    </tr>\n",
       "    <tr>\n",
       "      <th>76</th>\n",
       "      <td>77</td>\n",
       "      <td>122</td>\n",
       "      <td>Pakistan</td>\n",
       "      <td>3</td>\n",
       "      <td>1</td>\n",
       "      <td>R. Premadasa Stadium, Colombo</td>\n",
       "      <td>Neutral</td>\n",
       "      <td>11-Sep-23</td>\n",
       "      <td>Won</td>\n",
       "      <td>2023-09-11</td>\n",
       "      <td>2023.0</td>\n",
       "      <td>9.0</td>\n",
       "      <td>11.0</td>\n",
       "      <td>Notout</td>\n",
       "    </tr>\n",
       "    <tr>\n",
       "      <th>77</th>\n",
       "      <td>78</td>\n",
       "      <td>103</td>\n",
       "      <td>Bangladesh</td>\n",
       "      <td>3</td>\n",
       "      <td>2</td>\n",
       "      <td>Maharashtra Cricket Association Stadium, Pune</td>\n",
       "      <td>Home</td>\n",
       "      <td>19-Oct-23</td>\n",
       "      <td>Won</td>\n",
       "      <td>2023-10-19</td>\n",
       "      <td>2023.0</td>\n",
       "      <td>10.0</td>\n",
       "      <td>19.0</td>\n",
       "      <td>Notout</td>\n",
       "    </tr>\n",
       "    <tr>\n",
       "      <th>78</th>\n",
       "      <td>79</td>\n",
       "      <td>101</td>\n",
       "      <td>South Africa</td>\n",
       "      <td>3</td>\n",
       "      <td>1</td>\n",
       "      <td>Eden Gardens, Kolkata</td>\n",
       "      <td>Home</td>\n",
       "      <td>05-Nov</td>\n",
       "      <td>Won</td>\n",
       "      <td>NaT</td>\n",
       "      <td>NaN</td>\n",
       "      <td>NaN</td>\n",
       "      <td>NaN</td>\n",
       "      <td>Notout</td>\n",
       "    </tr>\n",
       "    <tr>\n",
       "      <th>79</th>\n",
       "      <td>80</td>\n",
       "      <td>117</td>\n",
       "      <td>New Zealand</td>\n",
       "      <td>3</td>\n",
       "      <td>1</td>\n",
       "      <td>Wankhede Stadium, Mumbai</td>\n",
       "      <td>Home</td>\n",
       "      <td>15-Nov-23</td>\n",
       "      <td>Won</td>\n",
       "      <td>2023-11-15</td>\n",
       "      <td>2023.0</td>\n",
       "      <td>11.0</td>\n",
       "      <td>15.0</td>\n",
       "      <td>Out</td>\n",
       "    </tr>\n",
       "  </tbody>\n",
       "</table>\n",
       "<p>80 rows × 14 columns</p>\n",
       "</div>"
      ],
      "text/plain": [
       "    No.  Runs       Against  Position  Innings  \\\n",
       "0     1   107     Sri Lanka         4        2   \n",
       "1     2   102    Bangladesh         3        2   \n",
       "2     3   118     Australia         3        2   \n",
       "3     4   105   New Zealand         3        1   \n",
       "4     5   100    Bangladesh         4        1   \n",
       "..  ...   ...           ...       ...      ...   \n",
       "75   76   121   West Indies         4        1   \n",
       "76   77   122      Pakistan         3        1   \n",
       "77   78   103    Bangladesh         3        2   \n",
       "78   79   101  South Africa         3        1   \n",
       "79   80   117   New Zealand         3        1   \n",
       "\n",
       "                                            Venue   Ground       Date Result  \\\n",
       "0                           Eden Gardens, Kolkata     Home  24-Dec-09    Won   \n",
       "1            Sher-e-Bangla Cricket Stadium, Dhaka     Away  11-Jan-10    Won   \n",
       "2                APCA-VDCA Stadium, Visakhapatnam     Home  20-Oct-10    Won   \n",
       "3                         Nehru Stadium, Guwahati     Home  28-Nov-10    Won   \n",
       "4            Sher-e-Bangla Cricket Stadium, Dhaka     Away  19-Feb-11    Won   \n",
       "..                                            ...      ...        ...    ...   \n",
       "75               Queen's Park Oval, Port of Spain     Away  20-Jul-23  Drawn   \n",
       "76                  R. Premadasa Stadium, Colombo  Neutral  11-Sep-23    Won   \n",
       "77  Maharashtra Cricket Association Stadium, Pune     Home  19-Oct-23    Won   \n",
       "78                          Eden Gardens, Kolkata     Home     05-Nov    Won   \n",
       "79                       Wankhede Stadium, Mumbai     Home  15-Nov-23    Won   \n",
       "\n",
       "         date    year  month   day Out/Notout  \n",
       "0  2009-12-24  2009.0   12.0  24.0        Out  \n",
       "1  2010-01-11  2010.0    1.0  11.0     Notout  \n",
       "2  2010-10-20  2010.0   10.0  20.0        Out  \n",
       "3  2010-11-28  2010.0   11.0  28.0        Out  \n",
       "4  2011-02-19  2011.0    2.0  19.0     Notout  \n",
       "..        ...     ...    ...   ...        ...  \n",
       "75 2023-07-20  2023.0    7.0  20.0        Out  \n",
       "76 2023-09-11  2023.0    9.0  11.0     Notout  \n",
       "77 2023-10-19  2023.0   10.0  19.0     Notout  \n",
       "78        NaT     NaN    NaN   NaN     Notout  \n",
       "79 2023-11-15  2023.0   11.0  15.0        Out  \n",
       "\n",
       "[80 rows x 14 columns]"
      ]
     },
     "execution_count": 22,
     "metadata": {},
     "output_type": "execute_result"
    }
   ],
   "source": [
    "df"
   ]
  },
  {
   "cell_type": "code",
   "execution_count": 23,
   "id": "d46bf0e3",
   "metadata": {},
   "outputs": [
    {
     "data": {
      "text/plain": [
       "Out       56\n",
       "Notout    24\n",
       "Name: Out/Notout, dtype: int64"
      ]
     },
     "execution_count": 23,
     "metadata": {},
     "output_type": "execute_result"
    }
   ],
   "source": [
    "df['Out/Notout'].value_counts()"
   ]
  },
  {
   "cell_type": "markdown",
   "id": "0030e3fb",
   "metadata": {},
   "source": [
    "## Lets Start Exploring"
   ]
  },
  {
   "cell_type": "markdown",
   "id": "22ff7529",
   "metadata": {},
   "source": [
    "**1. How many centuries has Virat Kohli scored in total across all formats of international cricket**"
   ]
  },
  {
   "cell_type": "code",
   "execution_count": 24,
   "id": "b50c6d96",
   "metadata": {},
   "outputs": [
    {
     "name": "stdout",
     "output_type": "stream",
     "text": [
      "Centuries has Virat Kohli scored in total across all formats of international cricket :  80\n"
     ]
    }
   ],
   "source": [
    "#since the data set represents the centuries scored by virat kohli which are uniques \n",
    "#count of rows will gives the centuries has Virat Kohli scored in total across all formats of international cricket\n",
    "\n",
    "print(\"Centuries has Virat Kohli scored in total across all formats of international cricket : \",len(df))"
   ]
  },
  {
   "cell_type": "markdown",
   "id": "8e736bf6",
   "metadata": {},
   "source": [
    "**2. What is the average number of runs scored by Virat Kohli in his centuries**"
   ]
  },
  {
   "cell_type": "code",
   "execution_count": 25,
   "id": "61903444",
   "metadata": {},
   "outputs": [
    {
     "name": "stdout",
     "output_type": "stream",
     "text": [
      "Average :  131.55\n"
     ]
    }
   ],
   "source": [
    "print('Average : ',df['Runs'].mean())"
   ]
  },
  {
   "cell_type": "markdown",
   "id": "c8e83b65",
   "metadata": {},
   "source": [
    "**3. Which opponent has Virat Kohli scored the most centuries against**"
   ]
  },
  {
   "cell_type": "code",
   "execution_count": 34,
   "id": "a96f53c3",
   "metadata": {},
   "outputs": [
    {
     "data": {
      "text/plain": [
       "Against\n",
       " Afghanistan      1\n",
       " Australia       16\n",
       " Bangladesh       6\n",
       " England          8\n",
       " New Zealand      8\n",
       " Pakistan         2\n",
       " South Africa     7\n",
       " Sri Lanka       15\n",
       " West Indies     11\n",
       " Zimbabwe         1\n",
       "Bangladesh        1\n",
       "New Zealand       1\n",
       "Pakistan          1\n",
       "South Africa      1\n",
       "West Indies       1\n",
       "dtype: int64"
      ]
     },
     "execution_count": 34,
     "metadata": {},
     "output_type": "execute_result"
    }
   ],
   "source": [
    "count = df.groupby('Against').size()\n",
    "count"
   ]
  },
  {
   "cell_type": "code",
   "execution_count": 33,
   "id": "05235d51",
   "metadata": {},
   "outputs": [
    {
     "name": "stdout",
     "output_type": "stream",
     "text": [
      "Opponent with the most centuries:  Australia (16 centuries)\n"
     ]
    }
   ],
   "source": [
    "# Get the maximum count of centuries\n",
    "max_count = count.max()\n",
    "\n",
    "# Find the opponent with the maximum number of centuries\n",
    "max_count_opponent = count.idxmax()\n",
    "\n",
    "print(f\"Opponent with the most centuries: {max_count_opponent} ({max_count} centuries)\")"
   ]
  },
  {
   "cell_type": "markdown",
   "id": "48a4b825",
   "metadata": {},
   "source": [
    "**4. What is the distribution of the centuries scored by virat in each innings?**"
   ]
  },
  {
   "cell_type": "code",
   "execution_count": 45,
   "id": "6564603f",
   "metadata": {},
   "outputs": [
    {
     "data": {
      "text/plain": [
       "1    33\n",
       "2    42\n",
       "3     3\n",
       "4     2\n",
       "Name: Innings, dtype: int64"
      ]
     },
     "execution_count": 45,
     "metadata": {},
     "output_type": "execute_result"
    }
   ],
   "source": [
    "innings_distribution = df['Innings'].value_counts().sort_index()\n",
    "innings_distribution"
   ]
  },
  {
   "cell_type": "code",
   "execution_count": 46,
   "id": "56d99501",
   "metadata": {},
   "outputs": [
    {
     "data": {
      "image/png": "[encoded data removed]",
      "text/plain": [
       "<Figure size 1000x600 with 1 Axes>"
      ]
     },
     "metadata": {},
     "output_type": "display_data"
    }
   ],
   "source": [
    "# Plotting the distribution\n",
    "plt.figure(figsize=(10, 6))\n",
    "sns.barplot(x=innings_distribution.index, y=innings_distribution.values, palette='viridis')\n",
    "plt.xlabel('Innings')\n",
    "plt.ylabel('Number of Centuries')\n",
    "plt.title('Distribution of Innings Taken by Virat Kohli to Score Centuries')\n",
    "plt.show()"
   ]
  },
  {
   "cell_type": "markdown",
   "id": "2393c722",
   "metadata": {},
   "source": [
    "**5. Distribution of Virat Kohli's centuries were scored while playing at different positions?**"
   ]
  },
  {
   "cell_type": "code",
   "execution_count": 43,
   "id": "84e59fbd",
   "metadata": {},
   "outputs": [
    {
     "data": {
      "text/plain": [
       "2     1\n",
       "3    43\n",
       "4    32\n",
       "5     3\n",
       "6     1\n",
       "Name: Position, dtype: int64"
      ]
     },
     "execution_count": 43,
     "metadata": {},
     "output_type": "execute_result"
    }
   ],
   "source": [
    "Position_Centuries = df['Position'].value_counts().sort_index()\n",
    "Position_Centuries"
   ]
  },
  {
   "cell_type": "code",
   "execution_count": 44,
   "id": "0efd21d9",
   "metadata": {},
   "outputs": [
    {
     "data": {
      "image/png": "[encoded data removed]",
      "text/plain": [
       "<Figure size 1000x600 with 1 Axes>"
      ]
     },
     "metadata": {},
     "output_type": "display_data"
    }
   ],
   "source": [
    "\n",
    "plt.figure(figsize=(10, 6))\n",
    "sns.barplot(x=Position_Centuries.index, y=Position_Centuries.values, palette='viridis')\n",
    "plt.xlabel('Position')\n",
    "plt.ylabel('Number of Centuries')\n",
    "plt.title('Distribution of centuries scored by virat at different Position')\n",
    "plt.show()"
   ]
  },
  {
   "cell_type": "markdown",
   "id": "ddf8155c",
   "metadata": {},
   "source": [
    "**6. Distribution of Virat Kohli's centuries at different venues?**"
   ]
  },
  {
   "cell_type": "code",
   "execution_count": 48,
   "id": "3fee7dee",
   "metadata": {},
   "outputs": [],
   "source": [
    "venues_centuires = df['Venue'].value_counts()"
   ]
  },
  {
   "cell_type": "code",
   "execution_count": 49,
   "id": "b7369bc8",
   "metadata": {},
   "outputs": [
    {
     "data": {
      "text/plain": [
       "Adelaide Oval, Adelaide                                  5\n",
       "Eden Gardens, Kolkata                                    4\n",
       "R. Premadasa Stadium, Colombo                            4\n",
       "Sher-e-Bangla Cricket Stadium, Dhaka                     4\n",
       "Queen's Park Oval, Port of Spain                         4\n",
       "Maharashtra Cricket Association Stadium, Pune            3\n",
       "Vidarbha Cricket Association Stadium, Nagpur             3\n",
       "Wankhede Stadium, Mumbai                                 3\n",
       "JSCA International Stadium, Ranchi                       2\n",
       "APCA-VDCA Stadium, Visakhapatnam                         2\n",
       "Feroz Shah Kotla Ground, Delhi                           2\n",
       "M. A. Chidambaram Stadium, Chennai                       2\n",
       "ACA Stadium, Guwahati                                    2\n",
       "ACA-VDCA Cricket Stadium, Visakhapatnam                  2\n",
       "Galle International Stadium, Galle                       2\n",
       "Melbourne Cricket Ground, Melbourne                      2\n",
       "SuperSport Park, Centurion                               2\n",
       "Dubai International Cricket Stadium, Dubai               1\n",
       "Rajiv Gandhi International Cricket Stadium, Hyderabad    1\n",
       "Sabina Park, Kingston                                    1\n",
       "Narendra Modi Stadium, Ahmedabad                         1\n",
       "Kingsmead Cricket Ground, Durban                         1\n",
       "Green Park Stadium, Kanpur                               1\n",
       "Zohur Ahmed Chowdhury Stadium, Chittagong                1\n",
       "Newlands Cricket Ground, Cape Town                       1\n",
       "Edgbaston Cricket Ground, Birmingham                     1\n",
       "Trent Bridge, Nottingham                                 1\n",
       "Greenfield International Stadium, Thiruvananthapuram     1\n",
       "Perth Stadium, Perth                                     1\n",
       "Saurashtra Cricket Association Stadium, Rajkot           1\n",
       "Sydney Cricket Ground, Sydney                            1\n",
       "Punjab Cricket Association IS Bindra Stadium, Mohali     1\n",
       "Holkar Stadium, Indore                                   1\n",
       "Nehru Stadium, Guwahati                                  1\n",
       "Sophia Gardens, Cardiff                                  1\n",
       "Bellerive Oval, Hobart                                   1\n",
       "MRIC Stadium, Hambantota                                 1\n",
       "M. Chinnaswamy Stadium, Bangalore                        1\n",
       "Harare Sports Club, Harare                               1\n",
       "Sawai Mansingh Stadium, Jaipur                           1\n",
       "VCA Stadium, Nagpur                                      1\n",
       "Wanderers Stadium, Johannesburg                          1\n",
       "McLean Park, Napier                                      1\n",
       "Basin Reserve, Wellington                                1\n",
       "Khan Shaheb Osman Ali Stadium, Fatullah                  1\n",
       "HPCA Stadium, Dharamshala                                1\n",
       "Manuka Oval, Canberra                                    1\n",
       "Sir Vivian Richards Stadium, North Sound                 1\n",
       "Maharashtra Cricket Association Stadium, Pune            1\n",
       "Name: Venue, dtype: int64"
      ]
     },
     "execution_count": 49,
     "metadata": {},
     "output_type": "execute_result"
    }
   ],
   "source": [
    "venues_centuires"
   ]
  },
  {
   "cell_type": "markdown",
   "id": "d8944af0",
   "metadata": {},
   "source": [
    "**7.How many centuries has Virat Kohli scored at home versus away?**"
   ]
  },
  {
   "cell_type": "code",
   "execution_count": 50,
   "id": "1c63ce67",
   "metadata": {},
   "outputs": [
    {
     "data": {
      "text/plain": [
       "Home       38\n",
       "Away       36\n",
       "Neutral     6\n",
       "Name: Ground, dtype: int64"
      ]
     },
     "execution_count": 50,
     "metadata": {},
     "output_type": "execute_result"
    }
   ],
   "source": [
    "Centuries_scored = df['Ground'].value_counts()\n",
    "Centuries_scored"
   ]
  },
  {
   "cell_type": "markdown",
   "id": "dee3fb14",
   "metadata": {},
   "source": [
    "centuries each year"
   ]
  },
  {
   "cell_type": "markdown",
   "id": "b3b06dc1",
   "metadata": {},
   "source": [
    "centuries against all countries in win ans lose cases"
   ]
  },
  {
   "cell_type": "code",
   "execution_count": null,
   "id": "b506540c",
   "metadata": {},
   "outputs": [],
   "source": [
    "centuries against all countries in win ans lose cases"
   ]
  }
 ],
 "metadata": {
  "kernelspec": {
   "display_name": "Python 3 (ipykernel)",
   "language": "python",
   "name": "python3"
  },
  "language_info": {
   "codemirror_mode": {
    "name": "ipython",
    "version": 3
   },
   "file_extension": ".py",
   "mimetype": "text/x-python",
   "name": "python",
   "nbconvert_exporter": "python",
   "pygments_lexer": "ipython3",
   "version": "3.11.4"
  }
 },
 "nbformat": 4,
 "nbformat_minor": 5
}
